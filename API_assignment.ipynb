{
 "cells": [
  {
   "cell_type": "code",
   "execution_count": 1,
   "id": "e1575464",
   "metadata": {},
   "outputs": [],
   "source": [
    "# API stands for application programming interface, these are used in web applications to connect user-facing front ends\n",
    "# with critical back-end functionality and data. It is a set of clearly defined methods of communication between various\n",
    "#software components. \n",
    "# Ex-: 1. Google Maps: Thanks to standards applied by Google, most websites can use Google Maps APIs to integrate their maps.\n",
    "#      2. Weather API: A geolocation and meteorological information service with many different APIs that range from weather  \n",
    "#         forecasting to time zones to astronomical information and much more."
   ]
  },
  {
   "cell_type": "code",
   "execution_count": 2,
   "id": "16b47920",
   "metadata": {},
   "outputs": [],
   "source": [
    "# Advantages:-\n",
    "# Automation\n",
    "# Developer efficiency and innovation\n",
    "# Easy to connect with different applications and servers.\n",
    "# Easy to use all features of other application or databases.\n",
    "\n",
    "\n",
    "# Disadvantages:-\n",
    "# Security concerns\n",
    "# Complexity,\n",
    "# Compatibility issues\n",
    "# Dependency on third-party developers\n",
    "# Governance and management issues."
   ]
  },
  {
   "cell_type": "code",
   "execution_count": 3,
   "id": "5bbcbf4b",
   "metadata": {},
   "outputs": [],
   "source": [
    "# This class of APIs is the most common, as web APIs offer data that devices can read and transfer among web-based \n",
    "#  systems or a customer-server architecture.\n",
    "# API is a generic term which are used in web applications to connect user-facing front ends with critical back-end \n",
    "# functionality and data, but in web API these happens over web which uses REST architecture and HTTP protocol as communication\n",
    "# protocol."
   ]
  },
  {
   "cell_type": "code",
   "execution_count": 4,
   "id": "6a375ad5",
   "metadata": {},
   "outputs": [],
   "source": [
    "# SOAP is a protocol which was designed before REST and came into the picture. The main idea behind designing SOAP \n",
    "#   was to ensure that programs built on different platforms and programming languages could exchange data in an easy\n",
    "#   manner. SOAP stands for Simple Object Access Protocol.\n",
    "\n",
    "# REST was designed specifically for working with components such as media components, files, or even objects on a\n",
    "#   particular hardware device. Any web service that is defined on the principles of REST can be called a RestFul web \n",
    "#   service. A Restful service would use the normal HTTP verbs of GET, POST, PUT and DELETE for working with the required \n",
    "#   components. REST stands for Representational State Transfer.\n",
    "\n",
    "# Shortcoming of SOAP:\n",
    "# 1. It only works with xml formats.\n",
    "# 2. It requires more bandwidth than REST.\n",
    "# 3. SOAP cannot make use of REST whereas REST can make use of SOAP."
   ]
  },
  {
   "cell_type": "code",
   "execution_count": null,
   "id": "cc080abe",
   "metadata": {},
   "outputs": [],
   "source": [
    "# Differences between REST and SOAP:---\n",
    "\n",
    "#1. SOAP stands for Simple Object Access Protocol whereas REST stands for Representational State Transfer.\n",
    "#2. SOAP is a protocol whereas REST is an architectural pattern.\n",
    "#3. SOAP uses service interfaces to expose its functionality to client applications while REST uses Uniform Service \n",
    "#    locators to access to the components on the hardware device.\n",
    "#4. SOAP needs more bandwidth for its usage whereas REST doesn’t need much bandwidth.\n",
    "#5. Comparing SOAP vs REST API, SOAP only works with XML formats whereas REST work with plain text, XML, HTML and JSON.\n",
    "#6. SOAP cannot make use of REST whereas REST can make use of SOAP"
   ]
  }
 ],
 "metadata": {
  "kernelspec": {
   "display_name": "Python 3 (ipykernel)",
   "language": "python",
   "name": "python3"
  },
  "language_info": {
   "codemirror_mode": {
    "name": "ipython",
    "version": 3
   },
   "file_extension": ".py",
   "mimetype": "text/x-python",
   "name": "python",
   "nbconvert_exporter": "python",
   "pygments_lexer": "ipython3",
   "version": "3.9.13"
  }
 },
 "nbformat": 4,
 "nbformat_minor": 5
}
